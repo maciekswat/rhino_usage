{
 "cells": [
  {
   "cell_type": "code",
   "execution_count": 1,
   "metadata": {
    "collapsed": true
   },
   "outputs": [],
   "source": [
    "import pandas as pd\n",
    "import numpy as np\n",
    "%matplotlib inline\n",
    "import matplotlib\n",
    "import numpy as np\n",
    "import matplotlib.pyplot as plt\n",
    "from glob import glob"
   ]
  },
  {
   "cell_type": "code",
   "execution_count": 10,
   "metadata": {
    "collapsed": true
   },
   "outputs": [],
   "source": [
    "max_abusers = 1"
   ]
  },
  {
   "cell_type": "code",
   "execution_count": 21,
   "metadata": {
    "collapsed": false
   },
   "outputs": [
    {
     "name": "stdout",
     "output_type": "stream",
     "text": [
      "RhinoWeeklyUsageReport.20160510.csv\n",
      "RhinoWeeklyUsageReport.20160517.csv\n",
      "RhinoWeeklyUsageReport.20160531.csv\n"
     ]
    }
   ],
   "source": [
    "usage_report_names = glob('RhinoWeeklyUsageReport.*.csv')\n",
    "\n",
    "master_df = None\n",
    "for fname in usage_report_names:\n",
    "    print fname\n",
    "    date_str =  fname.split('.')[1]\n",
    "    date_pd_obj = pd.to_datetime(date_str,format= '%Y%m%d')\n",
    "    df = pd.read_csv(fname)\n",
    "    df['date'] = date_pd_obj\n",
    "    \n",
    "    if master_df is None:\n",
    "        master_df = df\n",
    "    else:\n",
    "        master_df = pd.concat([master_df,df], ignore_index=True)\n",
    "\n",
    "# rt_idx = master_df.columns.index('RUNTUME (s)') \n",
    "\n",
    "# if rt_idx>=0:\n",
    "columns = list(master_df.columns)\n",
    "\n",
    "columns[1] = 'RUNTIME (s)'\n",
    "master_df.columns=columns\n",
    "        \n"
   ]
  },
  {
   "cell_type": "code",
   "execution_count": 22,
   "metadata": {
    "collapsed": false
   },
   "outputs": [
    {
     "data": {
      "text/html": [
       "<div>\n",
       "<table border=\"1\" class=\"dataframe\">\n",
       "  <thead>\n",
       "    <tr style=\"text-align: right;\">\n",
       "      <th></th>\n",
       "      <th>RUNTIME (s)</th>\n",
       "      <th>CPUTIME (s)</th>\n",
       "      <th>MEMORY (GB)</th>\n",
       "      <th>IO (GB)</th>\n",
       "    </tr>\n",
       "    <tr>\n",
       "      <th>USER</th>\n",
       "      <th></th>\n",
       "      <th></th>\n",
       "      <th></th>\n",
       "      <th></th>\n",
       "    </tr>\n",
       "  </thead>\n",
       "  <tbody>\n",
       "    <tr>\n",
       "      <th>andrew.watrous</th>\n",
       "      <td>267767.500000</td>\n",
       "      <td>0.369500</td>\n",
       "      <td>0.000000</td>\n",
       "      <td>0.000000</td>\n",
       "    </tr>\n",
       "    <tr>\n",
       "      <th>anjohri</th>\n",
       "      <td>3446.000000</td>\n",
       "      <td>0.311000</td>\n",
       "      <td>0.002000</td>\n",
       "      <td>0.002000</td>\n",
       "    </tr>\n",
       "    <tr>\n",
       "      <th>cweidema</th>\n",
       "      <td>16976087.000000</td>\n",
       "      <td>18363367.900000</td>\n",
       "      <td>71389109.380667</td>\n",
       "      <td>145608.307667</td>\n",
       "    </tr>\n",
       "    <tr>\n",
       "      <th>elliot.smith</th>\n",
       "      <td>21.000000</td>\n",
       "      <td>0.067000</td>\n",
       "      <td>0.000000</td>\n",
       "      <td>0.000000</td>\n",
       "    </tr>\n",
       "    <tr>\n",
       "      <th>esolo</th>\n",
       "      <td>52097040.000000</td>\n",
       "      <td>35793635.352000</td>\n",
       "      <td>74117475.952000</td>\n",
       "      <td>95839.232000</td>\n",
       "    </tr>\n",
       "    <tr>\n",
       "      <th>healeym</th>\n",
       "      <td>5293.000000</td>\n",
       "      <td>0.383500</td>\n",
       "      <td>0.004000</td>\n",
       "      <td>0.005000</td>\n",
       "    </tr>\n",
       "    <tr>\n",
       "      <th>jfm2</th>\n",
       "      <td>317054.000000</td>\n",
       "      <td>6.896667</td>\n",
       "      <td>0.105333</td>\n",
       "      <td>0.090333</td>\n",
       "    </tr>\n",
       "    <tr>\n",
       "      <th>jgermi</th>\n",
       "      <td>13671.500000</td>\n",
       "      <td>13208.225500</td>\n",
       "      <td>49414.745000</td>\n",
       "      <td>4.204000</td>\n",
       "    </tr>\n",
       "    <tr>\n",
       "      <th>jkragel</th>\n",
       "      <td>578289.666667</td>\n",
       "      <td>3.007000</td>\n",
       "      <td>0.039667</td>\n",
       "      <td>0.033333</td>\n",
       "    </tr>\n",
       "    <tr>\n",
       "      <th>jostein</th>\n",
       "      <td>101264.666667</td>\n",
       "      <td>0.143000</td>\n",
       "      <td>0.000000</td>\n",
       "      <td>0.000000</td>\n",
       "    </tr>\n",
       "    <tr>\n",
       "      <th>ks347</th>\n",
       "      <td>4991.000000</td>\n",
       "      <td>24.714000</td>\n",
       "      <td>39.544000</td>\n",
       "      <td>0.287000</td>\n",
       "    </tr>\n",
       "    <tr>\n",
       "      <th>lyj</th>\n",
       "      <td>29816.666667</td>\n",
       "      <td>0.085333</td>\n",
       "      <td>0.000000</td>\n",
       "      <td>0.000000</td>\n",
       "    </tr>\n",
       "    <tr>\n",
       "      <th>maint</th>\n",
       "      <td>17092.000000</td>\n",
       "      <td>0.223500</td>\n",
       "      <td>0.002000</td>\n",
       "      <td>0.001500</td>\n",
       "    </tr>\n",
       "    <tr>\n",
       "      <th>malika.datta</th>\n",
       "      <td>9549.000000</td>\n",
       "      <td>0.073000</td>\n",
       "      <td>0.000000</td>\n",
       "      <td>0.000000</td>\n",
       "    </tr>\n",
       "    <tr>\n",
       "      <th>maolson</th>\n",
       "      <td>570.000000</td>\n",
       "      <td>0.036000</td>\n",
       "      <td>0.000000</td>\n",
       "      <td>0.000000</td>\n",
       "    </tr>\n",
       "    <tr>\n",
       "      <th>mswat</th>\n",
       "      <td>5311.000000</td>\n",
       "      <td>337.290000</td>\n",
       "      <td>3895.506000</td>\n",
       "      <td>2.467000</td>\n",
       "    </tr>\n",
       "    <tr>\n",
       "      <th>niclong</th>\n",
       "      <td>86397.666667</td>\n",
       "      <td>1.132333</td>\n",
       "      <td>0.003667</td>\n",
       "      <td>0.007000</td>\n",
       "    </tr>\n",
       "    <tr>\n",
       "      <th>peter.horak</th>\n",
       "      <td>853.000000</td>\n",
       "      <td>0.178000</td>\n",
       "      <td>0.001000</td>\n",
       "      <td>0.001000</td>\n",
       "    </tr>\n",
       "    <tr>\n",
       "      <th>ramayya</th>\n",
       "      <td>305.000000</td>\n",
       "      <td>285.677000</td>\n",
       "      <td>528.427000</td>\n",
       "      <td>0.717000</td>\n",
       "    </tr>\n",
       "    <tr>\n",
       "      <th>salman.qasim</th>\n",
       "      <td>99485.666667</td>\n",
       "      <td>0.060000</td>\n",
       "      <td>0.000000</td>\n",
       "      <td>0.000000</td>\n",
       "    </tr>\n",
       "    <tr>\n",
       "      <th>sudas</th>\n",
       "      <td>1474415.000000</td>\n",
       "      <td>1423352.473333</td>\n",
       "      <td>3077558.732667</td>\n",
       "      <td>725.512667</td>\n",
       "    </tr>\n",
       "    <tr>\n",
       "      <th>timothy.sheehan</th>\n",
       "      <td>635351.000000</td>\n",
       "      <td>2.111667</td>\n",
       "      <td>0.022667</td>\n",
       "      <td>0.016333</td>\n",
       "    </tr>\n",
       "    <tr>\n",
       "      <th>tungphan</th>\n",
       "      <td>31664876.000000</td>\n",
       "      <td>31611930.135000</td>\n",
       "      <td>34465762.470000</td>\n",
       "      <td>860.877000</td>\n",
       "    </tr>\n",
       "    <tr>\n",
       "      <th>uma.mohan</th>\n",
       "      <td>449152.000000</td>\n",
       "      <td>0.341000</td>\n",
       "      <td>0.000000</td>\n",
       "      <td>0.000000</td>\n",
       "    </tr>\n",
       "    <tr>\n",
       "      <th>yezzyat</th>\n",
       "      <td>526711.500000</td>\n",
       "      <td>2.644000</td>\n",
       "      <td>0.037500</td>\n",
       "      <td>0.030500</td>\n",
       "    </tr>\n",
       "  </tbody>\n",
       "</table>\n",
       "</div>"
      ],
      "text/plain": [
       "                     RUNTIME (s)      CPUTIME (s)      MEMORY (GB)  \\\n",
       "USER                                                                 \n",
       "andrew.watrous     267767.500000         0.369500         0.000000   \n",
       "anjohri              3446.000000         0.311000         0.002000   \n",
       "cweidema         16976087.000000  18363367.900000  71389109.380667   \n",
       "elliot.smith           21.000000         0.067000         0.000000   \n",
       "esolo            52097040.000000  35793635.352000  74117475.952000   \n",
       "healeym              5293.000000         0.383500         0.004000   \n",
       "jfm2               317054.000000         6.896667         0.105333   \n",
       "jgermi              13671.500000     13208.225500     49414.745000   \n",
       "jkragel            578289.666667         3.007000         0.039667   \n",
       "jostein            101264.666667         0.143000         0.000000   \n",
       "ks347                4991.000000        24.714000        39.544000   \n",
       "lyj                 29816.666667         0.085333         0.000000   \n",
       "maint               17092.000000         0.223500         0.002000   \n",
       "malika.datta         9549.000000         0.073000         0.000000   \n",
       "maolson               570.000000         0.036000         0.000000   \n",
       "mswat                5311.000000       337.290000      3895.506000   \n",
       "niclong             86397.666667         1.132333         0.003667   \n",
       "peter.horak           853.000000         0.178000         0.001000   \n",
       "ramayya               305.000000       285.677000       528.427000   \n",
       "salman.qasim        99485.666667         0.060000         0.000000   \n",
       "sudas             1474415.000000   1423352.473333   3077558.732667   \n",
       "timothy.sheehan    635351.000000         2.111667         0.022667   \n",
       "tungphan         31664876.000000  31611930.135000  34465762.470000   \n",
       "uma.mohan          449152.000000         0.341000         0.000000   \n",
       "yezzyat            526711.500000         2.644000         0.037500   \n",
       "\n",
       "                       IO (GB)  \n",
       "USER                            \n",
       "andrew.watrous        0.000000  \n",
       "anjohri               0.002000  \n",
       "cweidema         145608.307667  \n",
       "elliot.smith          0.000000  \n",
       "esolo             95839.232000  \n",
       "healeym               0.005000  \n",
       "jfm2                  0.090333  \n",
       "jgermi                4.204000  \n",
       "jkragel               0.033333  \n",
       "jostein               0.000000  \n",
       "ks347                 0.287000  \n",
       "lyj                   0.000000  \n",
       "maint                 0.001500  \n",
       "malika.datta          0.000000  \n",
       "maolson               0.000000  \n",
       "mswat                 2.467000  \n",
       "niclong               0.007000  \n",
       "peter.horak           0.001000  \n",
       "ramayya               0.717000  \n",
       "salman.qasim          0.000000  \n",
       "sudas               725.512667  \n",
       "timothy.sheehan       0.016333  \n",
       "tungphan            860.877000  \n",
       "uma.mohan             0.000000  \n",
       "yezzyat               0.030500  "
      ]
     },
     "execution_count": 22,
     "metadata": {},
     "output_type": "execute_result"
    }
   ],
   "source": [
    "mean_usage_df = master_df.groupby('USER').mean()"
   ]
  },
  {
   "cell_type": "code",
   "execution_count": 27,
   "metadata": {
    "collapsed": false
   },
   "outputs": [],
   "source": [
    "cpu_abusers  = mean_usage_df['CPUTIME (s)'].sort_values( ascending=False)\n",
    "runtime_abusers = mean_usage_df['RUNTIME (s)'].sort_values(ascending=False)\n",
    "memory_abusers = mean_usage_df['MEMORY (GB)'].sort_values(ascending=False)\n",
    "io_abusers = mean_usage_df['IO (GB)'].sort_values( ascending=False)"
   ]
  },
  {
   "cell_type": "code",
   "execution_count": 29,
   "metadata": {
    "collapsed": false
   },
   "outputs": [
    {
     "data": {
      "text/plain": [
       "Index([u'esolo', u'tungphan', u'cweidema', u'sudas', u'timothy.sheehan',\n",
       "       u'jkragel', u'yezzyat', u'uma.mohan', u'jfm2', u'andrew.watrous',\n",
       "       u'jostein', u'salman.qasim', u'niclong', u'lyj', u'maint', u'jgermi',\n",
       "       u'malika.datta', u'mswat', u'healeym', u'ks347', u'anjohri',\n",
       "       u'peter.horak', u'maolson', u'ramayya', u'elliot.smith'],\n",
       "      dtype='object', name=u'USER')"
      ]
     },
     "execution_count": 29,
     "metadata": {},
     "output_type": "execute_result"
    }
   ],
   "source": [
    "runtime_abusers.index"
   ]
  },
  {
   "cell_type": "code",
   "execution_count": null,
   "metadata": {
    "collapsed": true
   },
   "outputs": [],
   "source": []
  },
  {
   "cell_type": "code",
   "execution_count": null,
   "metadata": {
    "collapsed": true
   },
   "outputs": [],
   "source": []
  },
  {
   "cell_type": "code",
   "execution_count": 40,
   "metadata": {
    "collapsed": false
   },
   "outputs": [
    {
     "data": {
      "text/plain": [
       "<matplotlib.axes._subplots.AxesSubplot at 0x112220c90>"
      ]
     },
     "execution_count": 40,
     "metadata": {},
     "output_type": "execute_result"
    },
    {
     "data": {
      "image/png": "[encoded data removed]",
      "text/plain": [
       "<matplotlib.figure.Figure at 0x1123d5810>"
      ]
     },
     "metadata": {},
     "output_type": "display_data"
    }
   ],
   "source": [
    "runtime_abusers[:4].plot.pie(autopct='%.1f', fontsize=14, figsize=(6, 6), legend=True)\n",
    "\n",
    "# rt = runtime_abusers[:max_abusers]\n",
    "\n",
    "# labels = rt.index\n",
    "# sizes = rt.values\n",
    "# # colors = ['yellowgreen', 'gold', 'lightskyblue', 'lightcoral']\n",
    "# # explode = (0, 0.1, 0, 0)  # only \"explode\" the 2nd slice (i.e. 'Hogs')\n",
    "\n",
    "# plt.pie(sizes, \n",
    "# #         explode=explode, \n",
    "#         labels=labels, \n",
    "# #         colors=colors,\n",
    "#         autopct='%1.1f%%', shadow=True, startangle=90)\n",
    "# # Set aspect ratio to be equal so that pie is drawn as a circle.\n",
    "# plt.axis('equal')\n",
    "# plt.legend()"
   ]
  },
  {
   "cell_type": "code",
   "execution_count": 41,
   "metadata": {
    "collapsed": false
   },
   "outputs": [
    {
     "data": {
      "text/plain": [
       "<matplotlib.axes._subplots.AxesSubplot at 0x11270cd10>"
      ]
     },
     "execution_count": 41,
     "metadata": {},
     "output_type": "execute_result"
    },
    {
     "data": {
      "image/png": "[encoded data removed]",
      "text/plain": [
       "<matplotlib.figure.Figure at 0x11272c3d0>"
      ]
     },
     "metadata": {},
     "output_type": "display_data"
    }
   ],
   "source": [
    "cpu_abusers[:4].plot.pie(autopct='%.1f', fontsize=14, figsize=(6, 6), legend=True)"
   ]
  },
  {
   "cell_type": "code",
   "execution_count": 42,
   "metadata": {
    "collapsed": false
   },
   "outputs": [
    {
     "data": {
      "text/plain": [
       "<matplotlib.axes._subplots.AxesSubplot at 0x112b8af10>"
      ]
     },
     "execution_count": 42,
     "metadata": {},
     "output_type": "execute_result"
    },
    {
     "data": {
      "image/png": "[encoded data removed]",
      "text/plain": [
       "<matplotlib.figure.Figure at 0x11257b590>"
      ]
     },
     "metadata": {},
     "output_type": "display_data"
    }
   ],
   "source": [
    "io_abusers[:4].plot.pie(autopct='%.1f', fontsize=14, figsize=(6, 6), legend=True)"
   ]
  },
  {
   "cell_type": "code",
   "execution_count": 43,
   "metadata": {
    "collapsed": false
   },
   "outputs": [
    {
     "data": {
      "text/plain": [
       "<matplotlib.axes._subplots.AxesSubplot at 0x111823dd0>"
      ]
     },
     "execution_count": 43,
     "metadata": {},
     "output_type": "execute_result"
    },
    {
     "data": {
      "image/png": "[encoded data removed]",
      "text/plain": [
       "<matplotlib.figure.Figure at 0x112cafbd0>"
      ]
     },
     "metadata": {},
     "output_type": "display_data"
    }
   ],
   "source": [
    "memory_abusers[:4].plot.pie(autopct='%.1f', fontsize=14, figsize=(6, 6), legend=True)"
   ]
  },
  {
   "cell_type": "code",
   "execution_count": 4,
   "metadata": {
    "collapsed": false
   },
   "outputs": [
    {
     "data": {
      "text/html": [
       "<div>\n",
       "<table border=\"1\" class=\"dataframe\">\n",
       "  <thead>\n",
       "    <tr style=\"text-align: right;\">\n",
       "      <th></th>\n",
       "      <th>USER</th>\n",
       "      <th>RUNTUME (s)</th>\n",
       "      <th>CPUTIME (s)</th>\n",
       "      <th>MEMORY (GB)</th>\n",
       "      <th>IO (GB)</th>\n",
       "    </tr>\n",
       "  </thead>\n",
       "  <tbody>\n",
       "    <tr>\n",
       "      <th>0</th>\n",
       "      <td>andrew.watrous</td>\n",
       "      <td>189653</td>\n",
       "      <td>0.615</td>\n",
       "      <td>0.000</td>\n",
       "      <td>0.000</td>\n",
       "    </tr>\n",
       "    <tr>\n",
       "      <th>1</th>\n",
       "      <td>cweidema</td>\n",
       "      <td>29297468</td>\n",
       "      <td>28731995.393</td>\n",
       "      <td>93101107.461</td>\n",
       "      <td>253727.014</td>\n",
       "    </tr>\n",
       "    <tr>\n",
       "      <th>2</th>\n",
       "      <td>esolo</td>\n",
       "      <td>52097040</td>\n",
       "      <td>35793635.352</td>\n",
       "      <td>74117475.952</td>\n",
       "      <td>95839.232</td>\n",
       "    </tr>\n",
       "    <tr>\n",
       "      <th>3</th>\n",
       "      <td>healeym</td>\n",
       "      <td>10583</td>\n",
       "      <td>0.727</td>\n",
       "      <td>0.008</td>\n",
       "      <td>0.010</td>\n",
       "    </tr>\n",
       "    <tr>\n",
       "      <th>4</th>\n",
       "      <td>jfm2</td>\n",
       "      <td>686265</td>\n",
       "      <td>9.750</td>\n",
       "      <td>0.139</td>\n",
       "      <td>0.122</td>\n",
       "    </tr>\n",
       "    <tr>\n",
       "      <th>5</th>\n",
       "      <td>jgermi</td>\n",
       "      <td>747</td>\n",
       "      <td>114.050</td>\n",
       "      <td>302.691</td>\n",
       "      <td>0.101</td>\n",
       "    </tr>\n",
       "    <tr>\n",
       "      <th>6</th>\n",
       "      <td>jkragel</td>\n",
       "      <td>475316</td>\n",
       "      <td>2.005</td>\n",
       "      <td>0.023</td>\n",
       "      <td>0.021</td>\n",
       "    </tr>\n",
       "    <tr>\n",
       "      <th>7</th>\n",
       "      <td>jostein</td>\n",
       "      <td>1312</td>\n",
       "      <td>0.057</td>\n",
       "      <td>0.000</td>\n",
       "      <td>0.000</td>\n",
       "    </tr>\n",
       "    <tr>\n",
       "      <th>8</th>\n",
       "      <td>lyj</td>\n",
       "      <td>7247</td>\n",
       "      <td>0.036</td>\n",
       "      <td>0.000</td>\n",
       "      <td>0.000</td>\n",
       "    </tr>\n",
       "    <tr>\n",
       "      <th>9</th>\n",
       "      <td>maint</td>\n",
       "      <td>24510</td>\n",
       "      <td>0.206</td>\n",
       "      <td>0.002</td>\n",
       "      <td>0.002</td>\n",
       "    </tr>\n",
       "    <tr>\n",
       "      <th>10</th>\n",
       "      <td>mswat</td>\n",
       "      <td>5311</td>\n",
       "      <td>337.290</td>\n",
       "      <td>3895.506</td>\n",
       "      <td>2.467</td>\n",
       "    </tr>\n",
       "    <tr>\n",
       "      <th>11</th>\n",
       "      <td>niclong</td>\n",
       "      <td>207980</td>\n",
       "      <td>2.528</td>\n",
       "      <td>0.009</td>\n",
       "      <td>0.017</td>\n",
       "    </tr>\n",
       "    <tr>\n",
       "      <th>12</th>\n",
       "      <td>salman.qasim</td>\n",
       "      <td>243625</td>\n",
       "      <td>0.111</td>\n",
       "      <td>0.000</td>\n",
       "      <td>0.000</td>\n",
       "    </tr>\n",
       "    <tr>\n",
       "      <th>13</th>\n",
       "      <td>sudas</td>\n",
       "      <td>1276794</td>\n",
       "      <td>1273276.624</td>\n",
       "      <td>4685187.588</td>\n",
       "      <td>550.564</td>\n",
       "    </tr>\n",
       "    <tr>\n",
       "      <th>14</th>\n",
       "      <td>timothy.sheehan</td>\n",
       "      <td>22823</td>\n",
       "      <td>0.028</td>\n",
       "      <td>0.000</td>\n",
       "      <td>0.000</td>\n",
       "    </tr>\n",
       "    <tr>\n",
       "      <th>15</th>\n",
       "      <td>tungphan</td>\n",
       "      <td>31664876</td>\n",
       "      <td>31611930.135</td>\n",
       "      <td>34465762.470</td>\n",
       "      <td>860.877</td>\n",
       "    </tr>\n",
       "    <tr>\n",
       "      <th>16</th>\n",
       "      <td>uma.mohan</td>\n",
       "      <td>691003</td>\n",
       "      <td>0.327</td>\n",
       "      <td>0.000</td>\n",
       "      <td>0.000</td>\n",
       "    </tr>\n",
       "    <tr>\n",
       "      <th>17</th>\n",
       "      <td>yezzyat</td>\n",
       "      <td>445370</td>\n",
       "      <td>2.014</td>\n",
       "      <td>0.022</td>\n",
       "      <td>0.020</td>\n",
       "    </tr>\n",
       "  </tbody>\n",
       "</table>\n",
       "</div>"
      ],
      "text/plain": [
       "               USER  RUNTUME (s)   CPUTIME (s)   MEMORY (GB)     IO (GB)\n",
       "0    andrew.watrous       189653         0.615         0.000       0.000\n",
       "1          cweidema     29297468  28731995.393  93101107.461  253727.014\n",
       "2             esolo     52097040  35793635.352  74117475.952   95839.232\n",
       "3           healeym        10583         0.727         0.008       0.010\n",
       "4              jfm2       686265         9.750         0.139       0.122\n",
       "5            jgermi          747       114.050       302.691       0.101\n",
       "6           jkragel       475316         2.005         0.023       0.021\n",
       "7           jostein         1312         0.057         0.000       0.000\n",
       "8               lyj         7247         0.036         0.000       0.000\n",
       "9             maint        24510         0.206         0.002       0.002\n",
       "10            mswat         5311       337.290      3895.506       2.467\n",
       "11          niclong       207980         2.528         0.009       0.017\n",
       "12     salman.qasim       243625         0.111         0.000       0.000\n",
       "13            sudas      1276794   1273276.624   4685187.588     550.564\n",
       "14  timothy.sheehan        22823         0.028         0.000       0.000\n",
       "15         tungphan     31664876  31611930.135  34465762.470     860.877\n",
       "16        uma.mohan       691003         0.327         0.000       0.000\n",
       "17          yezzyat       445370         2.014         0.022       0.020"
      ]
     },
     "execution_count": 4,
     "metadata": {},
     "output_type": "execute_result"
    }
   ],
   "source": [
    "df = pd.read_csv('RhinoWeeklyUsageReport.20160531.csv')\n",
    "df"
   ]
  },
  {
   "cell_type": "code",
   "execution_count": 6,
   "metadata": {
    "collapsed": false
   },
   "outputs": [
    {
     "data": {
      "text/plain": [
       "Timestamp('2016-05-31 00:00:00')"
      ]
     },
     "execution_count": 6,
     "metadata": {},
     "output_type": "execute_result"
    }
   ],
   "source": [
    "dt = 20160531\n",
    "pd.to_datetime(dt,format= '%Y%m%d')"
   ]
  },
  {
   "cell_type": "code",
   "execution_count": 7,
   "metadata": {
    "collapsed": true
   },
   "outputs": [],
   "source": [
    "df['date']=dt"
   ]
  },
  {
   "cell_type": "code",
   "execution_count": 8,
   "metadata": {
    "collapsed": false
   },
   "outputs": [
    {
     "data": {
      "text/html": [
       "<div>\n",
       "<table border=\"1\" class=\"dataframe\">\n",
       "  <thead>\n",
       "    <tr style=\"text-align: right;\">\n",
       "      <th></th>\n",
       "      <th>USER</th>\n",
       "      <th>RUNTUME (s)</th>\n",
       "      <th>CPUTIME (s)</th>\n",
       "      <th>MEMORY (GB)</th>\n",
       "      <th>IO (GB)</th>\n",
       "      <th>date</th>\n",
       "    </tr>\n",
       "  </thead>\n",
       "  <tbody>\n",
       "    <tr>\n",
       "      <th>0</th>\n",
       "      <td>andrew.watrous</td>\n",
       "      <td>189653</td>\n",
       "      <td>0.615</td>\n",
       "      <td>0.000</td>\n",
       "      <td>0.000</td>\n",
       "      <td>20160531</td>\n",
       "    </tr>\n",
       "    <tr>\n",
       "      <th>1</th>\n",
       "      <td>cweidema</td>\n",
       "      <td>29297468</td>\n",
       "      <td>28731995.393</td>\n",
       "      <td>93101107.461</td>\n",
       "      <td>253727.014</td>\n",
       "      <td>20160531</td>\n",
       "    </tr>\n",
       "    <tr>\n",
       "      <th>2</th>\n",
       "      <td>esolo</td>\n",
       "      <td>52097040</td>\n",
       "      <td>35793635.352</td>\n",
       "      <td>74117475.952</td>\n",
       "      <td>95839.232</td>\n",
       "      <td>20160531</td>\n",
       "    </tr>\n",
       "    <tr>\n",
       "      <th>3</th>\n",
       "      <td>healeym</td>\n",
       "      <td>10583</td>\n",
       "      <td>0.727</td>\n",
       "      <td>0.008</td>\n",
       "      <td>0.010</td>\n",
       "      <td>20160531</td>\n",
       "    </tr>\n",
       "    <tr>\n",
       "      <th>4</th>\n",
       "      <td>jfm2</td>\n",
       "      <td>686265</td>\n",
       "      <td>9.750</td>\n",
       "      <td>0.139</td>\n",
       "      <td>0.122</td>\n",
       "      <td>20160531</td>\n",
       "    </tr>\n",
       "    <tr>\n",
       "      <th>5</th>\n",
       "      <td>jgermi</td>\n",
       "      <td>747</td>\n",
       "      <td>114.050</td>\n",
       "      <td>302.691</td>\n",
       "      <td>0.101</td>\n",
       "      <td>20160531</td>\n",
       "    </tr>\n",
       "    <tr>\n",
       "      <th>6</th>\n",
       "      <td>jkragel</td>\n",
       "      <td>475316</td>\n",
       "      <td>2.005</td>\n",
       "      <td>0.023</td>\n",
       "      <td>0.021</td>\n",
       "      <td>20160531</td>\n",
       "    </tr>\n",
       "    <tr>\n",
       "      <th>7</th>\n",
       "      <td>jostein</td>\n",
       "      <td>1312</td>\n",
       "      <td>0.057</td>\n",
       "      <td>0.000</td>\n",
       "      <td>0.000</td>\n",
       "      <td>20160531</td>\n",
       "    </tr>\n",
       "    <tr>\n",
       "      <th>8</th>\n",
       "      <td>lyj</td>\n",
       "      <td>7247</td>\n",
       "      <td>0.036</td>\n",
       "      <td>0.000</td>\n",
       "      <td>0.000</td>\n",
       "      <td>20160531</td>\n",
       "    </tr>\n",
       "    <tr>\n",
       "      <th>9</th>\n",
       "      <td>maint</td>\n",
       "      <td>24510</td>\n",
       "      <td>0.206</td>\n",
       "      <td>0.002</td>\n",
       "      <td>0.002</td>\n",
       "      <td>20160531</td>\n",
       "    </tr>\n",
       "    <tr>\n",
       "      <th>10</th>\n",
       "      <td>mswat</td>\n",
       "      <td>5311</td>\n",
       "      <td>337.290</td>\n",
       "      <td>3895.506</td>\n",
       "      <td>2.467</td>\n",
       "      <td>20160531</td>\n",
       "    </tr>\n",
       "    <tr>\n",
       "      <th>11</th>\n",
       "      <td>niclong</td>\n",
       "      <td>207980</td>\n",
       "      <td>2.528</td>\n",
       "      <td>0.009</td>\n",
       "      <td>0.017</td>\n",
       "      <td>20160531</td>\n",
       "    </tr>\n",
       "    <tr>\n",
       "      <th>12</th>\n",
       "      <td>salman.qasim</td>\n",
       "      <td>243625</td>\n",
       "      <td>0.111</td>\n",
       "      <td>0.000</td>\n",
       "      <td>0.000</td>\n",
       "      <td>20160531</td>\n",
       "    </tr>\n",
       "    <tr>\n",
       "      <th>13</th>\n",
       "      <td>sudas</td>\n",
       "      <td>1276794</td>\n",
       "      <td>1273276.624</td>\n",
       "      <td>4685187.588</td>\n",
       "      <td>550.564</td>\n",
       "      <td>20160531</td>\n",
       "    </tr>\n",
       "    <tr>\n",
       "      <th>14</th>\n",
       "      <td>timothy.sheehan</td>\n",
       "      <td>22823</td>\n",
       "      <td>0.028</td>\n",
       "      <td>0.000</td>\n",
       "      <td>0.000</td>\n",
       "      <td>20160531</td>\n",
       "    </tr>\n",
       "    <tr>\n",
       "      <th>15</th>\n",
       "      <td>tungphan</td>\n",
       "      <td>31664876</td>\n",
       "      <td>31611930.135</td>\n",
       "      <td>34465762.470</td>\n",
       "      <td>860.877</td>\n",
       "      <td>20160531</td>\n",
       "    </tr>\n",
       "    <tr>\n",
       "      <th>16</th>\n",
       "      <td>uma.mohan</td>\n",
       "      <td>691003</td>\n",
       "      <td>0.327</td>\n",
       "      <td>0.000</td>\n",
       "      <td>0.000</td>\n",
       "      <td>20160531</td>\n",
       "    </tr>\n",
       "    <tr>\n",
       "      <th>17</th>\n",
       "      <td>yezzyat</td>\n",
       "      <td>445370</td>\n",
       "      <td>2.014</td>\n",
       "      <td>0.022</td>\n",
       "      <td>0.020</td>\n",
       "      <td>20160531</td>\n",
       "    </tr>\n",
       "  </tbody>\n",
       "</table>\n",
       "</div>"
      ],
      "text/plain": [
       "               USER  RUNTUME (s)   CPUTIME (s)   MEMORY (GB)     IO (GB)  \\\n",
       "0    andrew.watrous       189653         0.615         0.000       0.000   \n",
       "1          cweidema     29297468  28731995.393  93101107.461  253727.014   \n",
       "2             esolo     52097040  35793635.352  74117475.952   95839.232   \n",
       "3           healeym        10583         0.727         0.008       0.010   \n",
       "4              jfm2       686265         9.750         0.139       0.122   \n",
       "5            jgermi          747       114.050       302.691       0.101   \n",
       "6           jkragel       475316         2.005         0.023       0.021   \n",
       "7           jostein         1312         0.057         0.000       0.000   \n",
       "8               lyj         7247         0.036         0.000       0.000   \n",
       "9             maint        24510         0.206         0.002       0.002   \n",
       "10            mswat         5311       337.290      3895.506       2.467   \n",
       "11          niclong       207980         2.528         0.009       0.017   \n",
       "12     salman.qasim       243625         0.111         0.000       0.000   \n",
       "13            sudas      1276794   1273276.624   4685187.588     550.564   \n",
       "14  timothy.sheehan        22823         0.028         0.000       0.000   \n",
       "15         tungphan     31664876  31611930.135  34465762.470     860.877   \n",
       "16        uma.mohan       691003         0.327         0.000       0.000   \n",
       "17          yezzyat       445370         2.014         0.022       0.020   \n",
       "\n",
       "        date  \n",
       "0   20160531  \n",
       "1   20160531  \n",
       "2   20160531  \n",
       "3   20160531  \n",
       "4   20160531  \n",
       "5   20160531  \n",
       "6   20160531  \n",
       "7   20160531  \n",
       "8   20160531  \n",
       "9   20160531  \n",
       "10  20160531  \n",
       "11  20160531  \n",
       "12  20160531  \n",
       "13  20160531  \n",
       "14  20160531  \n",
       "15  20160531  \n",
       "16  20160531  \n",
       "17  20160531  "
      ]
     },
     "execution_count": 8,
     "metadata": {},
     "output_type": "execute_result"
    }
   ],
   "source": [
    "df"
   ]
  },
  {
   "cell_type": "code",
   "execution_count": null,
   "metadata": {
    "collapsed": true
   },
   "outputs": [],
   "source": []
  }
 ],
 "metadata": {
  "kernelspec": {
   "display_name": "Python 2",
   "language": "python",
   "name": "python2"
  },
  "language_info": {
   "codemirror_mode": {
    "name": "ipython",
    "version": 2
   },
   "file_extension": ".py",
   "mimetype": "text/x-python",
   "name": "python",
   "nbconvert_exporter": "python",
   "pygments_lexer": "ipython2",
   "version": "2.7.11"
  }
 },
 "nbformat": 4,
 "nbformat_minor": 0
}
